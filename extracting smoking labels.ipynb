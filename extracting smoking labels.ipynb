{
 "cells": [
  {
   "cell_type": "code",
   "execution_count": 1,
   "metadata": {},
   "outputs": [],
   "source": [
    "import numpy as np\n",
    "import pandas as pd\n",
    "import re\n",
    "import os\n",
    "import numpy as np\n",
    "import matplotlib as mpl\n",
    "import matplotlib.pyplot as plt\n",
    "from scipy import stats\n",
    "import xml.etree.ElementTree as ET\n",
    "import sys\n",
    "from bs4 import BeautifulSoup \n",
    "import lxml"
   ]
  },
  {
   "cell_type": "code",
   "execution_count": 2,
   "metadata": {},
   "outputs": [],
   "source": [
    "with open('110-02.xml', 'r') as f: \n",
    "    data = f.read().replace('\\n', ' ')"
   ]
  },
  {
   "cell_type": "code",
   "execution_count": 3,
   "metadata": {},
   "outputs": [],
   "source": [
    "Bs_data = BeautifulSoup(data, \"xml\") "
   ]
  },
  {
   "cell_type": "code",
   "execution_count": 4,
   "metadata": {},
   "outputs": [
    {
     "data": {
      "text/plain": [
       "[<SMOKER id=\"DOC2\" status=\"current\"/>]"
      ]
     },
     "execution_count": 4,
     "metadata": {},
     "output_type": "execute_result"
    }
   ],
   "source": [
    "b_unique = Bs_data.find_all('SMOKER') \n",
    "b_unique"
   ]
  },
  {
   "cell_type": "code",
   "execution_count": 5,
   "metadata": {},
   "outputs": [],
   "source": [
    "new_list = []\n",
    "for root, dirs, files in os.walk(\"C:\\\\Users\\\\baner\\\\CTakes\\\\testing-RiskFactors-Gold\\\\\"):\n",
    "    for file in files:\n",
    "        if file.endswith('.xml'):\n",
    "            with open(os.path.join(root, file), 'r') as f:\n",
    "                text = f.read().replace('\\n', ' ')\n",
    "                Bs_data = BeautifulSoup(text, \"xml\") \n",
    "                b_unique = Bs_data.find_all('SMOKER') \n",
    "                new_list.append(b_unique)\n",
    "                \n",
    "df = pd.DataFrame.from_records(new_list)\n",
    "df\n",
    "\n",
    "df.to_csv(r'C:\\\\Users\\\\baner\\\\CTakes\\\\testing-RiskFactors-Gold\\\\labels.csv')"
   ]
  },
  {
   "cell_type": "code",
   "execution_count": 6,
   "metadata": {},
   "outputs": [
    {
     "data": {
      "text/html": [
       "<div>\n",
       "<style scoped>\n",
       "    .dataframe tbody tr th:only-of-type {\n",
       "        vertical-align: middle;\n",
       "    }\n",
       "\n",
       "    .dataframe tbody tr th {\n",
       "        vertical-align: top;\n",
       "    }\n",
       "\n",
       "    .dataframe thead th {\n",
       "        text-align: right;\n",
       "    }\n",
       "</style>\n",
       "<table border=\"1\" class=\"dataframe\">\n",
       "  <thead>\n",
       "    <tr style=\"text-align: right;\">\n",
       "      <th></th>\n",
       "      <th>,0</th>\n",
       "    </tr>\n",
       "  </thead>\n",
       "  <tbody>\n",
       "    <tr>\n",
       "      <th>0</th>\n",
       "      <td>0,\"&lt;SMOKER id=\"\"DOC7\"\" status=\"\"unknown\"\"/&gt;\"</td>\n",
       "    </tr>\n",
       "    <tr>\n",
       "      <th>1</th>\n",
       "      <td>1,\"&lt;SMOKER id=\"\"DOC2\"\" status=\"\"current\"\"/&gt;\"</td>\n",
       "    </tr>\n",
       "    <tr>\n",
       "      <th>2</th>\n",
       "      <td>2,\"&lt;SMOKER id=\"\"DOC26\"\" status=\"\"current\"\"/&gt;\"</td>\n",
       "    </tr>\n",
       "    <tr>\n",
       "      <th>3</th>\n",
       "      <td>3,\"&lt;SMOKER id=\"\"DOC16\"\" status=\"\"unknown\"\"/&gt;\"</td>\n",
       "    </tr>\n",
       "    <tr>\n",
       "      <th>4</th>\n",
       "      <td>4,\"&lt;SMOKER id=\"\"DOC8\"\" status=\"\"unknown\"\"/&gt;\"</td>\n",
       "    </tr>\n",
       "    <tr>\n",
       "      <th>...</th>\n",
       "      <td>...</td>\n",
       "    </tr>\n",
       "    <tr>\n",
       "      <th>509</th>\n",
       "      <td>509,\"&lt;SMOKER id=\"\"DOC24\"\" status=\"\"never\"\"/&gt;\"</td>\n",
       "    </tr>\n",
       "    <tr>\n",
       "      <th>510</th>\n",
       "      <td>510,\"&lt;SMOKER id=\"\"DOC1\"\" status=\"\"unknown\"\"/&gt;\"</td>\n",
       "    </tr>\n",
       "    <tr>\n",
       "      <th>511</th>\n",
       "      <td>511,\"&lt;SMOKER id=\"\"DOC2\"\" status=\"\"past\"\"/&gt;\"</td>\n",
       "    </tr>\n",
       "    <tr>\n",
       "      <th>512</th>\n",
       "      <td>512,\"&lt;SMOKER id=\"\"DOC6\"\" status=\"\"past\"\"/&gt;\"</td>\n",
       "    </tr>\n",
       "    <tr>\n",
       "      <th>513</th>\n",
       "      <td>513,\"&lt;SMOKER id=\"\"DOC2\"\" status=\"\"past\"\"/&gt;\"</td>\n",
       "    </tr>\n",
       "  </tbody>\n",
       "</table>\n",
       "<p>514 rows × 1 columns</p>\n",
       "</div>"
      ],
      "text/plain": [
       "                                                 ,0\n",
       "0      0,\"<SMOKER id=\"\"DOC7\"\" status=\"\"unknown\"\"/>\"\n",
       "1      1,\"<SMOKER id=\"\"DOC2\"\" status=\"\"current\"\"/>\"\n",
       "2     2,\"<SMOKER id=\"\"DOC26\"\" status=\"\"current\"\"/>\"\n",
       "3     3,\"<SMOKER id=\"\"DOC16\"\" status=\"\"unknown\"\"/>\"\n",
       "4      4,\"<SMOKER id=\"\"DOC8\"\" status=\"\"unknown\"\"/>\"\n",
       "..                                              ...\n",
       "509   509,\"<SMOKER id=\"\"DOC24\"\" status=\"\"never\"\"/>\"\n",
       "510  510,\"<SMOKER id=\"\"DOC1\"\" status=\"\"unknown\"\"/>\"\n",
       "511     511,\"<SMOKER id=\"\"DOC2\"\" status=\"\"past\"\"/>\"\n",
       "512     512,\"<SMOKER id=\"\"DOC6\"\" status=\"\"past\"\"/>\"\n",
       "513     513,\"<SMOKER id=\"\"DOC2\"\" status=\"\"past\"\"/>\"\n",
       "\n",
       "[514 rows x 1 columns]"
      ]
     },
     "execution_count": 6,
     "metadata": {},
     "output_type": "execute_result"
    }
   ],
   "source": [
    "df = pd.read_csv(r'C:\\\\Users\\\\baner\\\\CTakes\\\\testing-RiskFactors-Gold\\\\labels.csv',delimiter='\\t', \n",
    "                 index_col=False) \n",
    "df"
   ]
  },
  {
   "cell_type": "code",
   "execution_count": 7,
   "metadata": {},
   "outputs": [],
   "source": [
    "df['Label_actual']=1"
   ]
  },
  {
   "cell_type": "code",
   "execution_count": 8,
   "metadata": {},
   "outputs": [
    {
     "name": "stderr",
     "output_type": "stream",
     "text": [
      "C:\\Users\\baner\\Anaconda3\\lib\\site-packages\\pandas\\core\\indexing.py:205: SettingWithCopyWarning: \n",
      "A value is trying to be set on a copy of a slice from a DataFrame\n",
      "\n",
      "See the caveats in the documentation: http://pandas.pydata.org/pandas-docs/stable/user_guide/indexing.html#returning-a-view-versus-a-copy\n",
      "  self._setitem_with_indexer(indexer, value)\n"
     ]
    }
   ],
   "source": [
    "i=0\n",
    "for i in range(len(df)):\n",
    "    if 'past' in df[',0'].iloc[i]:\n",
    "        df['Label_actual'].iloc[i]='PastSmoker'\n",
    "    elif 'never' in df[',0'].iloc[i]:\n",
    "        df['Label_actual'].iloc[i]='NonSmoker'\n",
    "    elif 'current' in df[',0'].iloc[i]:\n",
    "        df['Label_actual'].iloc[i]='Smoker'\n",
    "    else:\n",
    "        df['Label_actual'].iloc[i]='Not Defined'\n",
    "        "
   ]
  },
  {
   "cell_type": "code",
   "execution_count": 9,
   "metadata": {},
   "outputs": [
    {
     "data": {
      "text/html": [
       "<div>\n",
       "<style scoped>\n",
       "    .dataframe tbody tr th:only-of-type {\n",
       "        vertical-align: middle;\n",
       "    }\n",
       "\n",
       "    .dataframe tbody tr th {\n",
       "        vertical-align: top;\n",
       "    }\n",
       "\n",
       "    .dataframe thead th {\n",
       "        text-align: right;\n",
       "    }\n",
       "</style>\n",
       "<table border=\"1\" class=\"dataframe\">\n",
       "  <thead>\n",
       "    <tr style=\"text-align: right;\">\n",
       "      <th></th>\n",
       "      <th>,0</th>\n",
       "      <th>Label_actual</th>\n",
       "    </tr>\n",
       "  </thead>\n",
       "  <tbody>\n",
       "    <tr>\n",
       "      <th>0</th>\n",
       "      <td>0,\"&lt;SMOKER id=\"\"DOC7\"\" status=\"\"unknown\"\"/&gt;\"</td>\n",
       "      <td>Not Defined</td>\n",
       "    </tr>\n",
       "    <tr>\n",
       "      <th>1</th>\n",
       "      <td>1,\"&lt;SMOKER id=\"\"DOC2\"\" status=\"\"current\"\"/&gt;\"</td>\n",
       "      <td>Smoker</td>\n",
       "    </tr>\n",
       "    <tr>\n",
       "      <th>2</th>\n",
       "      <td>2,\"&lt;SMOKER id=\"\"DOC26\"\" status=\"\"current\"\"/&gt;\"</td>\n",
       "      <td>Smoker</td>\n",
       "    </tr>\n",
       "    <tr>\n",
       "      <th>3</th>\n",
       "      <td>3,\"&lt;SMOKER id=\"\"DOC16\"\" status=\"\"unknown\"\"/&gt;\"</td>\n",
       "      <td>Not Defined</td>\n",
       "    </tr>\n",
       "    <tr>\n",
       "      <th>4</th>\n",
       "      <td>4,\"&lt;SMOKER id=\"\"DOC8\"\" status=\"\"unknown\"\"/&gt;\"</td>\n",
       "      <td>Not Defined</td>\n",
       "    </tr>\n",
       "    <tr>\n",
       "      <th>...</th>\n",
       "      <td>...</td>\n",
       "      <td>...</td>\n",
       "    </tr>\n",
       "    <tr>\n",
       "      <th>509</th>\n",
       "      <td>509,\"&lt;SMOKER id=\"\"DOC24\"\" status=\"\"never\"\"/&gt;\"</td>\n",
       "      <td>NonSmoker</td>\n",
       "    </tr>\n",
       "    <tr>\n",
       "      <th>510</th>\n",
       "      <td>510,\"&lt;SMOKER id=\"\"DOC1\"\" status=\"\"unknown\"\"/&gt;\"</td>\n",
       "      <td>Not Defined</td>\n",
       "    </tr>\n",
       "    <tr>\n",
       "      <th>511</th>\n",
       "      <td>511,\"&lt;SMOKER id=\"\"DOC2\"\" status=\"\"past\"\"/&gt;\"</td>\n",
       "      <td>PastSmoker</td>\n",
       "    </tr>\n",
       "    <tr>\n",
       "      <th>512</th>\n",
       "      <td>512,\"&lt;SMOKER id=\"\"DOC6\"\" status=\"\"past\"\"/&gt;\"</td>\n",
       "      <td>PastSmoker</td>\n",
       "    </tr>\n",
       "    <tr>\n",
       "      <th>513</th>\n",
       "      <td>513,\"&lt;SMOKER id=\"\"DOC2\"\" status=\"\"past\"\"/&gt;\"</td>\n",
       "      <td>PastSmoker</td>\n",
       "    </tr>\n",
       "  </tbody>\n",
       "</table>\n",
       "<p>514 rows × 2 columns</p>\n",
       "</div>"
      ],
      "text/plain": [
       "                                                 ,0 Label_actual\n",
       "0      0,\"<SMOKER id=\"\"DOC7\"\" status=\"\"unknown\"\"/>\"  Not Defined\n",
       "1      1,\"<SMOKER id=\"\"DOC2\"\" status=\"\"current\"\"/>\"       Smoker\n",
       "2     2,\"<SMOKER id=\"\"DOC26\"\" status=\"\"current\"\"/>\"       Smoker\n",
       "3     3,\"<SMOKER id=\"\"DOC16\"\" status=\"\"unknown\"\"/>\"  Not Defined\n",
       "4      4,\"<SMOKER id=\"\"DOC8\"\" status=\"\"unknown\"\"/>\"  Not Defined\n",
       "..                                              ...          ...\n",
       "509   509,\"<SMOKER id=\"\"DOC24\"\" status=\"\"never\"\"/>\"    NonSmoker\n",
       "510  510,\"<SMOKER id=\"\"DOC1\"\" status=\"\"unknown\"\"/>\"  Not Defined\n",
       "511     511,\"<SMOKER id=\"\"DOC2\"\" status=\"\"past\"\"/>\"   PastSmoker\n",
       "512     512,\"<SMOKER id=\"\"DOC6\"\" status=\"\"past\"\"/>\"   PastSmoker\n",
       "513     513,\"<SMOKER id=\"\"DOC2\"\" status=\"\"past\"\"/>\"   PastSmoker\n",
       "\n",
       "[514 rows x 2 columns]"
      ]
     },
     "execution_count": 9,
     "metadata": {},
     "output_type": "execute_result"
    }
   ],
   "source": [
    "df"
   ]
  },
  {
   "cell_type": "code",
   "execution_count": 10,
   "metadata": {},
   "outputs": [],
   "source": [
    "df.to_csv(r'C:\\\\Users\\\\baner\\\\CTakes\\\\testing-RiskFactors-Gold\\\\labels_actual.csv')"
   ]
  },
  {
   "cell_type": "code",
   "execution_count": null,
   "metadata": {},
   "outputs": [],
   "source": []
  },
  {
   "cell_type": "code",
   "execution_count": null,
   "metadata": {},
   "outputs": [],
   "source": []
  }
 ],
 "metadata": {
  "kernelspec": {
   "display_name": "Python 3",
   "language": "python",
   "name": "python3"
  },
  "language_info": {
   "codemirror_mode": {
    "name": "ipython",
    "version": 3
   },
   "file_extension": ".py",
   "mimetype": "text/x-python",
   "name": "python",
   "nbconvert_exporter": "python",
   "pygments_lexer": "ipython3",
   "version": "3.7.6"
  }
 },
 "nbformat": 4,
 "nbformat_minor": 2
}
